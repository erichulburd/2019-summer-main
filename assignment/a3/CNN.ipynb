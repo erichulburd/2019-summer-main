{
 "cells": [
  {
   "cell_type": "markdown",
   "metadata": {},
   "source": [
    "# Convolutional Neural Networks\n",
    "\n",
    "This notebook introduces convolutional neural networks (CNNs), a more powerful classification model similar to the Neural Bag-of-Words (BOW) model you explored earlier.\n",
    "\n",
    "## Outline\n",
    "\n",
    "- **Part (a):** Model Architecture\n",
    "- **Part (b):** Implementing the CNN Model\n",
    "- **Part (c):** Tuning"
   ]
  },
  {
   "cell_type": "code",
   "execution_count": 1,
   "metadata": {},
   "outputs": [
    {
     "name": "stdout",
     "output_type": "stream",
     "text": [
      "Overriding nltk.tree.Tree pretty-printing to use custom GraphViz.\n"
     ]
    }
   ],
   "source": [
    "from __future__ import division\n",
    "import os, sys, re, json, time, datetime, shutil\n",
    "import itertools, collections\n",
    "from importlib import reload\n",
    "from IPython.display import display, HTML\n",
    "\n",
    "# NLTK for NLP utils and corpora\n",
    "import nltk\n",
    "\n",
    "# NumPy and TensorFlow\n",
    "import numpy as np\n",
    "import pandas as pd\n",
    "import tensorflow as tf\n",
    "from tensorflow import keras\n",
    "\n",
    "# Helper libraries\n",
    "from w266_common import utils, vocabulary, tf_embed_viz, treeviz\n",
    "from w266_common import patched_numpy_io\n",
    "# Code for this assignment\n",
    "import sst\n",
    "\n",
    "# Monkey-patch NLTK with better Tree display that works on Cloud or other display-less server.\n",
    "print(\"Overriding nltk.tree.Tree pretty-printing to use custom GraphViz.\")\n",
    "treeviz.monkey_patch(nltk.tree.Tree, node_style_fn=sst.sst_node_style, format='svg')"
   ]
  },
  {
   "cell_type": "markdown",
   "metadata": {},
   "source": [
    "## (a) Model Architecture\n",
    "\n",
    "CNNs are a more sophisticated neural model for sentence classification than the Neural BOW model we saw in the last section. CNNs operate by sweeping a collection of filters over a text. Each filter produces a sequence of feature values known as a _feature map_. In one of the most basic formulations introduced by [Kim (2014)](https://www.aclweb.org/anthology/D14-1181), a single layer of _pooling_ is used to summarize the _feature maps_ as a fixed length vector. The fixed length vector is then feed to the output layer in order to produce classification labels. A popular choice for the pooling operation is to take the maximum feature value from by each _feature map_.\n",
    "\n",
    "![Convolutional Neural Network from Kim 2014](kim_2014_figure_1_cnn.png)\n",
    "*CNN model architure, Figure 1 from Kim (2014)*\n",
    "\n",
    "We'll use the following notation:\n",
    "- $w^{(i)} \\in \\mathbb{Z}$, the word id for the $i^{th}$ word of the sequence (as an integer index)\n",
    "- $x^{(i)} \\in \\mathbb{R}^d$ for the vector representation (embedding) of $w^{(i)}$\n",
    "- $x^{i:i+j}$ is the concatenation of $x^{(i)}, x^{(i+1)} ... x^{(i+j)}$ \n",
    "- $c^{(i)}_{k}$ is the value of the $k^{th}$ feature map along the word sequence, each filter applies over a window of $h$ words and uses non-linearity $f$.\n",
    "- $\\hat{c}_{k}$ is the value of the $k^{th}$ feature after pooling the feature map over the whole sequence.\n",
    "- $\\hat{C}$ is the concatenation of pooled feature maps. \n",
    "- $y$ for the target label ($\\in 1,\\ldots,\\mathtt{num\\_classes}$)\n",
    "\n",
    "Our model is defined as:\n",
    "- **Embedding layer:** $x^{(i)} = W_{embed}[w^{(i)}]$\n",
    "- **Convolutional layer:** $c^{(i)}_{k} = f(x^{i:i+h-1} W_k + b)$\n",
    "- **Pooling layer:**  $\\hat{c}_{k}$ = $max(c^{(0)}_{k}, c^{(1)}_{k}...)$ \n",
    "- **Output layer:** $\\hat{y} = \\hat{P}(y) = \\mathrm{softmax}(\\hat{C} W_{out} + b_{out})$\n",
    "\n",
    "\n",
    "We'll refer to the first part of this model (**Embedding layer**, **Convolutional layer**, and **Pooling layer**) as the **Encoder**: it has the role of encoding the input sequence into a fixed-length vector representation that we pass to the output layer.\n",
    "\n",
    "We'll also use these as shorthand for important dimensions:\n",
    "- `V`: the vocabulary size (equal to `ds.vocab.size`)\n",
    "- `N`: the maximum number of tokens in the input text\n",
    "- `embed_dim`: the embedding dimension $d$\n",
    "- `kernel_size`: a list of filter lengths\n",
    "- `filters`: number filters per filter length\n",
    "- `num_classes`: the number of target classes (2 for the binary task)"
   ]
  },
  {
   "cell_type": "markdown",
   "metadata": {},
   "source": [
    "## (a) Short Answer Questions\n",
    "\n",
    "When answering these questions in the answers file,\n",
    "`embed_dim = 10`, `kernel_size = [3, 4, 5]`, `filters=128`, `N=10` and `num_classes = 7`.\n",
    "\n",
    "1. In terms of these values, the vocabulary size `V` and the maximum sequence length `N`, what are the\n",
    "   shapes of the following variables: \n",
    "   $c^{(i)}_{kernal\\_size=3}$, $c^{(i)}_{kernal\\_size=4}$, $c^{(i)}_{kernal\\_size=5}$, $\\hat{c}^{(i)}_{kernal\\_size=3}$, $\\hat{c}^{(i)}_{kernal\\_size=4}$, $\\hat{c}^{(i)}_{kernal\\_size=5}$, and $\\hat{C}$. Assume a stride size of 1. Assume padding is not used (e.g., for tf.nn.max_pool and tf.nn.conv1d, setting padding='VALID'), provide the shapes listed above.\n",
    "<p>\n",
    "2. What are the shapes of $c^{(i)}_{kernal\\_size=3}$ and $\\hat{c}^{(i)}_{kernal\\_size=3}$ when paddiding is used.\n",
    "      (e.g., for tf.nn.max_pool and tf.nn.conv1d, setting padding='same').\n",
    "<p>\n",
    "3. How many parameters are in each of the convolutional filters, $W_{filter\\_length=3}$, $W_{filter\\_length=4}$, $W_{filter\\_length=5}$? And the output layer, $W_{out}$?\n",
    "<p>\n",
    "<p>\n",
    "4. Historically NLP models made heavy use of manual feature engineering. In relation to systems with manually engineered features, describe what type of operation is being performed by the convolutional filters.\n",
    "<p>\n",
    "5. Suppose that we have two examples, `[foo bar baz]` and `[baz bar foo]`. Will this model make the same predictions on these? Why or why not?"
   ]
  },
  {
   "cell_type": "markdown",
   "metadata": {},
   "source": [
    "## (b) Implementing the CNN Model\n",
    "\n",
    "We'll implement our CNN model below. Our implementation will differ from [Kim (2014)](https://www.aclweb.org/anthology/D14-1181) in that we will support using multiple dense hidden layers after the convolutional layers.\n",
    "\n",
    "**Before you start**, be sure to answer the short-answer questions above!"
   ]
  },
  {
   "cell_type": "code",
   "execution_count": 2,
   "metadata": {},
   "outputs": [
    {
     "name": "stdout",
     "output_type": "stream",
     "text": [
      "Loading SST from data/sst/trainDevTestTrees_PTB.zip\n",
      "Training set:     8,544 trees\n",
      "Development set:  1,101 trees\n",
      "Test set:         2,210 trees\n",
      "Building vocabulary - 16,474 words\n",
      "Processing to phrases...  Done!\n",
      "Splits: train / dev / test : 98,794 / 13,142 / 26,052\n"
     ]
    }
   ],
   "source": [
    "import sst\n",
    "\n",
    "# Load SST dataset\n",
    "ds = sst.SSTDataset(V=20000).process(label_scheme=\"binary\")\n",
    "max_len = 40\n",
    "train_x, train_ns, train_y = ds.as_padded_array('train', max_len=max_len, root_only=True)\n",
    "dev_x,   dev_ns,   dev_y   = ds.as_padded_array('dev',   max_len=max_len, root_only=True)\n",
    "test_x,  test_ns,  test_y  = ds.as_padded_array('test',  max_len=max_len, root_only=True)\n"
   ]
  },
  {
   "cell_type": "code",
   "execution_count": 27,
   "metadata": {},
   "outputs": [],
   "source": [
    "# Specify model hyperparameters.\n",
    "\n",
    "def run(\n",
    "    epochs=10, embed_dim=5, num_filters=[2,2,2], kernel_sizes=[2,3,4],\n",
    "    dense_layer_dims=[512, 256], dropout=0.4\n",
    "):\n",
    "    num_classes = len(ds.target_names)\n",
    "\n",
    "    # Construct the convolutional neural network.\n",
    "    # The form of each keras layer function is as follows:\n",
    "    #    result = keras.layers.LayerType(arguments for the layer)(layer(s) it should use as input)\n",
    "    # concretely,\n",
    "    #    this_layer_output = keras.layers.Dense(100, activation='relu')(prev_layer_vector)\n",
    "    # performs this_layer_output = relu(prev_layer_vector x W + b) where W has 100 columns.\n",
    "\n",
    "    # Input is a special \"layer\".  It defines a placeholder that will be overwritten by the training data.\n",
    "    # In our case, we are accepting a list of wordids (padded out to max_len).\n",
    "    wordids = keras.layers.Input(shape=(max_len,))\n",
    "\n",
    "    # Embed the wordids.\n",
    "    # Recall, this is just a mathematically equivalent operation to a linear layer and a one-hot\n",
    "    h = keras.layers.Embedding(ds.vocab.size, embed_dim, input_length=max_len)(wordids)\n",
    "\n",
    "    # Construct \"filters\" randomly initialized filters with dimension \"kernel_size\" for each size of filter we want.\n",
    "    # With the default hyperparameters, we construct 10 filters each of size 2, 3, 4.  As in the image above, each filter\n",
    "    # is wide enough to span the whole word embedding (this is why the convolution is \"1d\" as seen in the\n",
    "    # function name below).\n",
    "    conv_layers_for_all_kernel_sizes = []\n",
    "    for filters, kernel_size in zip(kernel_sizes, num_filters):\n",
    "        conv_layer = keras.layers.Conv1D(filters=filters, kernel_size=kernel_size, activation='relu')(h)\n",
    "        conv_layer = keras.layers.GlobalMaxPooling1D()(conv_layer)\n",
    "        conv_layers_for_all_kernel_sizes.append(conv_layer)\n",
    "\n",
    "    # Concat the feature maps from each different size.\n",
    "    h = keras.layers.concatenate(conv_layers_for_all_kernel_sizes, axis=1)\n",
    "\n",
    "    # Dropout can help with overfitting (improve generalization) by randomly 0-ing different subsets of values\n",
    "    # in the vector.\n",
    "    # See https://www.cs.toronto.edu/~hinton/absps/JMLRdropout.pdf for details.\n",
    "    h = keras.layers.Dropout(rate=dropout_rate)(h)\n",
    "\n",
    "    ### YOUR CODE HERE\n",
    "    # Add a fully connected layer for each dense layer dimension in dense_layer_dims.\n",
    "    for dim in dense_layer_dims:\n",
    "        h = keras.layers.Dense(dim, activation='relu')(h)\n",
    "    ### END YOUR CODE\n",
    "\n",
    "    prediction = keras.layers.Dense(num_classes, activation='softmax')(h)\n",
    "\n",
    "    model = keras.Model(inputs=wordids, outputs=prediction)\n",
    "    model.compile(optimizer='adam',\n",
    "                  loss='sparse_categorical_crossentropy',  # From information theory notebooks.\n",
    "                  metrics=['accuracy'])        # What metric to output as we train.\n",
    "    \n",
    "    print({\n",
    "        'epochs': epochs, 'embed_dim': embed_dim, 'num_filters': num_filters, 'kernel_sizes': kernel_sizes,\n",
    "        'dense_layer_dims': dense_layer_dims, 'dropout': dropout\n",
    "    })\n",
    "    model.reset_states()\n",
    "    model.fit(train_x, train_y, epochs=epochs)\n",
    "    \n",
    "    return model"
   ]
  },
  {
   "cell_type": "code",
   "execution_count": 20,
   "metadata": {},
   "outputs": [
    {
     "name": "stdout",
     "output_type": "stream",
     "text": [
      "Epoch 1/10\n",
      "6920/6920 [==============================] - 2s 338us/sample - loss: 0.6911 - acc: 0.5185\n",
      "Epoch 2/10\n",
      "6920/6920 [==============================] - 2s 292us/sample - loss: 0.6269 - acc: 0.6461\n",
      "Epoch 3/10\n",
      "6920/6920 [==============================] - 2s 294us/sample - loss: 0.5008 - acc: 0.7642\n",
      "Epoch 4/10\n",
      "6920/6920 [==============================] - 2s 293us/sample - loss: 0.3958 - acc: 0.8259\n",
      "Epoch 5/10\n",
      "6920/6920 [==============================] - 2s 288us/sample - loss: 0.3410 - acc: 0.8585\n",
      "Epoch 6/10\n",
      "6920/6920 [==============================] - 2s 291us/sample - loss: 0.2881 - acc: 0.8808\n",
      "Epoch 7/10\n",
      "6920/6920 [==============================] - 2s 295us/sample - loss: 0.2555 - acc: 0.8967\n",
      "Epoch 8/10\n",
      "6920/6920 [==============================] - 2s 290us/sample - loss: 0.2263 - acc: 0.9100\n",
      "Epoch 9/10\n",
      "6920/6920 [==============================] - 2s 302us/sample - loss: 0.2124 - acc: 0.9169\n",
      "Epoch 10/10\n",
      "6920/6920 [==============================] - 2s 287us/sample - loss: 0.1965 - acc: 0.9218\n"
     ]
    },
    {
     "data": {
      "text/plain": [
       "<tensorflow.python.keras.callbacks.History at 0x7f3dc0e84a58>"
      ]
     },
     "execution_count": 20,
     "metadata": {},
     "output_type": "execute_result"
    }
   ],
   "source": [
    "model.reset_states()\n",
    "model.fit(train_x, train_y, epochs=epochs)"
   ]
  },
  {
   "cell_type": "markdown",
   "metadata": {},
   "source": [
    "## Evaluation\n",
    "\n",
    "Call [evaluate](https://keras.io/models/model/#evaluate) on your model."
   ]
  },
  {
   "cell_type": "code",
   "execution_count": 21,
   "metadata": {},
   "outputs": [
    {
     "name": "stdout",
     "output_type": "stream",
     "text": [
      "872/872 [==============================] - 0s 214us/sample - loss: 0.8311 - acc: 0.6950\n"
     ]
    },
    {
     "data": {
      "text/plain": [
       "[0.8311196215655825, 0.69495416]"
      ]
     },
     "execution_count": 21,
     "metadata": {},
     "output_type": "execute_result"
    }
   ],
   "source": [
    "#### YOUR CODE HERE ####\n",
    "model.evaluate(dev_x, dev_y)\n",
    "#### END(YOUR CODE) ####"
   ]
  },
  {
   "cell_type": "markdown",
   "metadata": {},
   "source": [
    "# Part (c): Tuning Your Model\n",
    "\n",
    "We'll once again want to optimize hyperparameters for our model to see if we can improve performance. The CNN model includes a number of new parameters that can significantly influence model performance.\n",
    "\n",
    "In this section, you will be asked to describe the new parameters as well as use them to attempt to improve the performance of your model.\n",
    "\n",
    "## Part (c) Short Answer Questions\n",
    "\n",
    "  1. Choose two parameters unique the CNN model, perform at least 10 runs with different combinations of values for these parameters, and then report the dev set results below. ***Hint: Consider wrapping the training code above in a for loop the examines the different values.***  To do this efficiently, you should consider [this paper](http://www.jmlr.org/papers/volume13/bergstra12a/bergstra12a.pdf) from Bergstra and Bengio.  [This blog post](https://blog.floydhub.com/guide-to-hyperparameters-search-for-deep-learning-models/) also has a less formal treatment of the same topic.\n",
    "  2. Describe any trends you see in experiments above (e.g., can you identify good ranges for the individual parameters; are there any interesting interactions?)\n",
    "  3. Pick the three best configurations according to the dev set and evaluate them on the test data. Is the ranking of the three best models the same on the dev and test sets?\n",
    "  4. What was the best accuracy you achieved on the test set?"
   ]
  },
  {
   "cell_type": "code",
   "execution_count": 28,
   "metadata": {},
   "outputs": [
    {
     "name": "stdout",
     "output_type": "stream",
     "text": [
      "{'epochs': 10, 'embed_dim': 50, 'num_filters': [2, 2, 2], 'kernel_sizes': [2, 3, 4], 'dense_layer_dims': [512, 256], 'dropout': 0.4}\n",
      "Epoch 1/10\n",
      "6920/6920 [==============================] - 5s 704us/sample - loss: 0.6718 - acc: 0.5678\n",
      "Epoch 2/10\n",
      "6920/6920 [==============================] - 4s 642us/sample - loss: 0.5332 - acc: 0.7328\n",
      "Epoch 3/10\n",
      "6920/6920 [==============================] - 4s 633us/sample - loss: 0.3751 - acc: 0.8373\n",
      "Epoch 4/10\n",
      "6920/6920 [==============================] - 5s 652us/sample - loss: 0.2838 - acc: 0.8796\n",
      "Epoch 5/10\n",
      "6920/6920 [==============================] - 5s 657us/sample - loss: 0.2356 - acc: 0.9014\n",
      "Epoch 6/10\n",
      "6920/6920 [==============================] - 5s 652us/sample - loss: 0.1923 - acc: 0.9208\n",
      "Epoch 7/10\n",
      "6920/6920 [==============================] - 4s 647us/sample - loss: 0.1597 - acc: 0.9360\n",
      "Epoch 8/10\n",
      "6920/6920 [==============================] - 4s 644us/sample - loss: 0.1451 - acc: 0.9422\n",
      "Epoch 9/10\n",
      "6920/6920 [==============================] - 4s 633us/sample - loss: 0.1240 - acc: 0.9500\n",
      "Epoch 10/10\n",
      "6920/6920 [==============================] - 5s 651us/sample - loss: 0.1126 - acc: 0.9549\n",
      "872/872 [==============================] - 0s 254us/sample - loss: 0.6158 - acc: 0.7466\n"
     ]
    },
    {
     "data": {
      "text/plain": [
       "[0.6158494138662968, 0.7465596]"
      ]
     },
     "execution_count": 28,
     "metadata": {},
     "output_type": "execute_result"
    }
   ],
   "source": [
    "model1 = run(embed_dim=50)"
   ]
  },
  {
   "cell_type": "code",
   "execution_count": 29,
   "metadata": {},
   "outputs": [
    {
     "name": "stdout",
     "output_type": "stream",
     "text": [
      "872/872 [==============================] - 0s 74us/sample - loss: 0.6158 - acc: 0.7466\n"
     ]
    },
    {
     "data": {
      "text/plain": [
       "[0.6158494138662968, 0.7465596]"
      ]
     },
     "execution_count": 29,
     "metadata": {},
     "output_type": "execute_result"
    }
   ],
   "source": [
    "model1.evaluate(dev_x, dev_y)"
   ]
  },
  {
   "cell_type": "code",
   "execution_count": 30,
   "metadata": {},
   "outputs": [
    {
     "name": "stdout",
     "output_type": "stream",
     "text": [
      "{'epochs': 10, 'embed_dim': 100, 'num_filters': [2, 2, 2], 'kernel_sizes': [2, 3, 4], 'dense_layer_dims': [256, 256], 'dropout': 0.7}\n",
      "Epoch 1/10\n",
      "6920/6920 [==============================] - 9s 1ms/sample - loss: 0.6597 - acc: 0.5874\n",
      "Epoch 2/10\n",
      "6920/6920 [==============================] - 8s 1ms/sample - loss: 0.5006 - acc: 0.7616\n",
      "Epoch 3/10\n",
      "6920/6920 [==============================] - 8s 1ms/sample - loss: 0.3580 - acc: 0.8412\n",
      "Epoch 4/10\n",
      "6920/6920 [==============================] - 8s 1ms/sample - loss: 0.2648 - acc: 0.8882\n",
      "Epoch 5/10\n",
      "6920/6920 [==============================] - 8s 1ms/sample - loss: 0.2138 - acc: 0.9108\n",
      "Epoch 6/10\n",
      "6920/6920 [==============================] - 8s 1ms/sample - loss: 0.1746 - acc: 0.9253\n",
      "Epoch 7/10\n",
      "6920/6920 [==============================] - 8s 1ms/sample - loss: 0.1457 - acc: 0.9389\n",
      "Epoch 8/10\n",
      "6920/6920 [==============================] - 8s 1ms/sample - loss: 0.1166 - acc: 0.9526\n",
      "Epoch 9/10\n",
      "6920/6920 [==============================] - 8s 1ms/sample - loss: 0.1167 - acc: 0.9507\n",
      "Epoch 10/10\n",
      "6920/6920 [==============================] - 8s 1ms/sample - loss: 0.1050 - acc: 0.9504\n"
     ]
    }
   ],
   "source": [
    "model2 = run(embed_dim=100, dropout=0.7, dense_layer_dims=[256, 256])"
   ]
  },
  {
   "cell_type": "code",
   "execution_count": 31,
   "metadata": {},
   "outputs": [
    {
     "name": "stdout",
     "output_type": "stream",
     "text": [
      "872/872 [==============================] - 0s 321us/sample - loss: 0.7096 - acc: 0.7294\n"
     ]
    },
    {
     "data": {
      "text/plain": [
       "[0.7096204292883567, 0.7293578]"
      ]
     },
     "execution_count": 31,
     "metadata": {},
     "output_type": "execute_result"
    }
   ],
   "source": [
    "model2.evaluate(dev_x, dev_y)"
   ]
  },
  {
   "cell_type": "code",
   "execution_count": 32,
   "metadata": {},
   "outputs": [
    {
     "name": "stdout",
     "output_type": "stream",
     "text": [
      "{'epochs': 10, 'embed_dim': 100, 'num_filters': [2, 2, 2], 'kernel_sizes': [2, 4, 8], 'dense_layer_dims': [128, 128], 'dropout': 0.7}\n",
      "Epoch 1/10\n",
      "6920/6920 [==============================] - 8s 1ms/sample - loss: 0.6600 - acc: 0.5957\n",
      "Epoch 2/10\n",
      "6920/6920 [==============================] - 8s 1ms/sample - loss: 0.4713 - acc: 0.7887\n",
      "Epoch 3/10\n",
      "6920/6920 [==============================] - 8s 1ms/sample - loss: 0.3055 - acc: 0.8767\n",
      "Epoch 4/10\n",
      "6920/6920 [==============================] - 8s 1ms/sample - loss: 0.2059 - acc: 0.9201\n",
      "Epoch 5/10\n",
      "6920/6920 [==============================] - 8s 1ms/sample - loss: 0.1404 - acc: 0.9457\n",
      "Epoch 6/10\n",
      "6920/6920 [==============================] - 8s 1ms/sample - loss: 0.1249 - acc: 0.9514\n",
      "Epoch 7/10\n",
      "6920/6920 [==============================] - 8s 1ms/sample - loss: 0.0950 - acc: 0.9629\n",
      "Epoch 8/10\n",
      "6920/6920 [==============================] - 8s 1ms/sample - loss: 0.0830 - acc: 0.9684\n",
      "Epoch 9/10\n",
      "6920/6920 [==============================] - 8s 1ms/sample - loss: 0.0767 - acc: 0.9697\n",
      "Epoch 10/10\n",
      "6920/6920 [==============================] - 8s 1ms/sample - loss: 0.0566 - acc: 0.9786\n"
     ]
    }
   ],
   "source": [
    "model3 = run(embed_dim=100, dropout=0.7, dense_layer_dims=[128, 128], num_filters=[2,2,2], kernel_sizes=[2,4,8])"
   ]
  },
  {
   "cell_type": "code",
   "execution_count": 33,
   "metadata": {},
   "outputs": [
    {
     "name": "stdout",
     "output_type": "stream",
     "text": [
      "872/872 [==============================] - 0s 349us/sample - loss: 0.9191 - acc: 0.7466\n"
     ]
    },
    {
     "data": {
      "text/plain": [
       "[0.9191371869603429, 0.7465596]"
      ]
     },
     "execution_count": 33,
     "metadata": {},
     "output_type": "execute_result"
    }
   ],
   "source": [
    "model3.evaluate(dev_x, dev_y)"
   ]
  },
  {
   "cell_type": "code",
   "execution_count": 34,
   "metadata": {},
   "outputs": [
    {
     "name": "stdout",
     "output_type": "stream",
     "text": [
      "{'epochs': 10, 'embed_dim': 100, 'num_filters': [2, 2, 2], 'kernel_sizes': [2, 4, 8], 'dense_layer_dims': [64, 32], 'dropout': 0.8}\n",
      "Epoch 1/10\n",
      "6920/6920 [==============================] - 8s 1ms/sample - loss: 0.6751 - acc: 0.5634\n",
      "Epoch 2/10\n",
      "6920/6920 [==============================] - 8s 1ms/sample - loss: 0.5195 - acc: 0.7486\n",
      "Epoch 3/10\n",
      "6920/6920 [==============================] - 8s 1ms/sample - loss: 0.3519 - acc: 0.8551\n",
      "Epoch 4/10\n",
      "6920/6920 [==============================] - 8s 1ms/sample - loss: 0.2363 - acc: 0.9051\n",
      "Epoch 5/10\n",
      "6920/6920 [==============================] - 8s 1ms/sample - loss: 0.1693 - acc: 0.9360\n",
      "Epoch 6/10\n",
      "6920/6920 [==============================] - 8s 1ms/sample - loss: 0.1223 - acc: 0.9548\n",
      "Epoch 7/10\n",
      "6920/6920 [==============================] - 8s 1ms/sample - loss: 0.1043 - acc: 0.9597\n",
      "Epoch 8/10\n",
      "6920/6920 [==============================] - 8s 1ms/sample - loss: 0.0836 - acc: 0.9694\n",
      "Epoch 9/10\n",
      "6920/6920 [==============================] - 8s 1ms/sample - loss: 0.0676 - acc: 0.9764\n",
      "Epoch 10/10\n",
      "6920/6920 [==============================] - 8s 1ms/sample - loss: 0.0615 - acc: 0.9790\n"
     ]
    }
   ],
   "source": [
    "model4 = run(embed_dim=100, dropout=0.8, dense_layer_dims=[64, 32], num_filters=[2,2,2], kernel_sizes=[2,4,8])"
   ]
  },
  {
   "cell_type": "code",
   "execution_count": 35,
   "metadata": {},
   "outputs": [
    {
     "name": "stdout",
     "output_type": "stream",
     "text": [
      "872/872 [==============================] - 0s 363us/sample - loss: 0.9118 - acc: 0.7500\n"
     ]
    },
    {
     "data": {
      "text/plain": [
       "[0.9118259844429996, 0.75]"
      ]
     },
     "execution_count": 35,
     "metadata": {},
     "output_type": "execute_result"
    }
   ],
   "source": [
    "model4.evaluate(dev_x, dev_y)"
   ]
  },
  {
   "cell_type": "code",
   "execution_count": 44,
   "metadata": {},
   "outputs": [
    {
     "name": "stdout",
     "output_type": "stream",
     "text": [
      "{'epochs': 5, 'embed_dim': 100, 'num_filters': [2, 2, 2], 'kernel_sizes': [2, 4, 8], 'dense_layer_dims': [64, 32], 'dropout': 0.8}\n",
      "Epoch 1/5\n",
      "6920/6920 [==============================] - 9s 1ms/sample - loss: 0.6591 - acc: 0.6000\n",
      "Epoch 2/5\n",
      "6920/6920 [==============================] - 8s 1ms/sample - loss: 0.4860 - acc: 0.7785\n",
      "Epoch 3/5\n",
      "6920/6920 [==============================] - 9s 1ms/sample - loss: 0.3219 - acc: 0.8686\n",
      "Epoch 4/5\n",
      "6920/6920 [==============================] - 8s 1ms/sample - loss: 0.2168 - acc: 0.9160\n",
      "Epoch 5/5\n",
      "6920/6920 [==============================] - 8s 1ms/sample - loss: 0.1577 - acc: 0.9358\n"
     ]
    }
   ],
   "source": [
    "model5 = run(epochs=5, embed_dim=100, dropout=0.8, dense_layer_dims=[64, 32], num_filters=[2,2,2], kernel_sizes=[2,4,8])"
   ]
  },
  {
   "cell_type": "code",
   "execution_count": 45,
   "metadata": {},
   "outputs": [
    {
     "name": "stdout",
     "output_type": "stream",
     "text": [
      "872/872 [==============================] - 0s 425us/sample - loss: 0.6351 - acc: 0.7569\n"
     ]
    },
    {
     "data": {
      "text/plain": [
       "[0.6350961896257663, 0.75688076]"
      ]
     },
     "execution_count": 45,
     "metadata": {},
     "output_type": "execute_result"
    }
   ],
   "source": [
    "model5.evaluate(dev_x, dev_y)"
   ]
  },
  {
   "cell_type": "code",
   "execution_count": 38,
   "metadata": {},
   "outputs": [
    {
     "name": "stdout",
     "output_type": "stream",
     "text": [
      "{'epochs': 5, 'embed_dim': 50, 'num_filters': [2, 2, 2], 'kernel_sizes': [2, 4, 6], 'dense_layer_dims': [128, 64], 'dropout': 0.7}\n",
      "Epoch 1/5\n",
      "6920/6920 [==============================] - 5s 714us/sample - loss: 0.6745 - acc: 0.5595\n",
      "Epoch 2/5\n",
      "6920/6920 [==============================] - 4s 650us/sample - loss: 0.5235 - acc: 0.7462\n",
      "Epoch 3/5\n",
      "6920/6920 [==============================] - 4s 649us/sample - loss: 0.3438 - acc: 0.8514\n",
      "Epoch 4/5\n",
      "6920/6920 [==============================] - 4s 649us/sample - loss: 0.2427 - acc: 0.9036\n",
      "Epoch 5/5\n",
      "6920/6920 [==============================] - 5s 653us/sample - loss: 0.1772 - acc: 0.9295\n"
     ]
    }
   ],
   "source": [
    "model6 = run(epochs=5, embed_dim=50, dropout=0.7, dense_layer_dims=[128, 64], num_filters=[2,2,2], kernel_sizes=[2,4,6])"
   ]
  },
  {
   "cell_type": "code",
   "execution_count": 39,
   "metadata": {},
   "outputs": [
    {
     "name": "stdout",
     "output_type": "stream",
     "text": [
      "872/872 [==============================] - 0s 355us/sample - loss: 0.6064 - acc: 0.7431\n"
     ]
    },
    {
     "data": {
      "text/plain": [
       "[0.6063909191604054, 0.74311924]"
      ]
     },
     "execution_count": 39,
     "metadata": {},
     "output_type": "execute_result"
    }
   ],
   "source": [
    "model6.evaluate(dev_x, dev_y)"
   ]
  },
  {
   "cell_type": "code",
   "execution_count": 40,
   "metadata": {},
   "outputs": [
    {
     "name": "stdout",
     "output_type": "stream",
     "text": [
      "{'epochs': 5, 'embed_dim': 100, 'num_filters': [2, 2, 2], 'kernel_sizes': [2, 4, 6], 'dense_layer_dims': [64, 32], 'dropout': 0.6}\n",
      "Epoch 1/5\n",
      "6920/6920 [==============================] - 9s 1ms/sample - loss: 0.6703 - acc: 0.5788\n",
      "Epoch 2/5\n",
      "6920/6920 [==============================] - 9s 1ms/sample - loss: 0.5063 - acc: 0.7633\n",
      "Epoch 3/5\n",
      "6920/6920 [==============================] - 9s 1ms/sample - loss: 0.3524 - acc: 0.8578\n",
      "Epoch 4/5\n",
      "6920/6920 [==============================] - 9s 1ms/sample - loss: 0.2576 - acc: 0.8974\n",
      "Epoch 5/5\n",
      "6920/6920 [==============================] - 9s 1ms/sample - loss: 0.1851 - acc: 0.9299\n"
     ]
    }
   ],
   "source": [
    "model7 = run(epochs=5, embed_dim=100, dropout=0.6, dense_layer_dims=[64, 32], num_filters=[2,2,2], kernel_sizes=[2,4,6])"
   ]
  },
  {
   "cell_type": "code",
   "execution_count": 41,
   "metadata": {},
   "outputs": [
    {
     "name": "stdout",
     "output_type": "stream",
     "text": [
      "872/872 [==============================] - 0s 377us/sample - loss: 0.5923 - acc: 0.7603\n"
     ]
    },
    {
     "data": {
      "text/plain": [
       "[0.5922778399165617, 0.7603211]"
      ]
     },
     "execution_count": 41,
     "metadata": {},
     "output_type": "execute_result"
    }
   ],
   "source": [
    "model7.evaluate(dev_x, dev_y)"
   ]
  },
  {
   "cell_type": "code",
   "execution_count": 42,
   "metadata": {},
   "outputs": [
    {
     "name": "stdout",
     "output_type": "stream",
     "text": [
      "{'epochs': 5, 'embed_dim': 100, 'num_filters': [2, 2, 2], 'kernel_sizes': [2, 4, 6], 'dense_layer_dims': [128, 64], 'dropout': 0.8}\n",
      "Epoch 1/5\n",
      "6920/6920 [==============================] - 9s 1ms/sample - loss: 0.6724 - acc: 0.5766\n",
      "Epoch 2/5\n",
      "6920/6920 [==============================] - 8s 1ms/sample - loss: 0.5126 - acc: 0.7538\n",
      "Epoch 3/5\n",
      "6920/6920 [==============================] - 8s 1ms/sample - loss: 0.3353 - acc: 0.8568\n",
      "Epoch 4/5\n",
      "6920/6920 [==============================] - 8s 1ms/sample - loss: 0.2222 - acc: 0.9123\n",
      "Epoch 5/5\n",
      "6920/6920 [==============================] - 8s 1ms/sample - loss: 0.1730 - acc: 0.9315\n"
     ]
    }
   ],
   "source": [
    "model8 = run(epochs=5, embed_dim=100, dropout=0.8, dense_layer_dims=[128, 64], num_filters=[2,2,2], kernel_sizes=[2,4,6])"
   ]
  },
  {
   "cell_type": "code",
   "execution_count": 43,
   "metadata": {},
   "outputs": [
    {
     "name": "stdout",
     "output_type": "stream",
     "text": [
      "872/872 [==============================] - 0s 407us/sample - loss: 0.5644 - acc: 0.7638\n"
     ]
    },
    {
     "data": {
      "text/plain": [
       "[0.5644018691067302, 0.76376146]"
      ]
     },
     "execution_count": 43,
     "metadata": {},
     "output_type": "execute_result"
    }
   ],
   "source": [
    "model8.evaluate(dev_x, dev_y)"
   ]
  },
  {
   "cell_type": "code",
   "execution_count": 47,
   "metadata": {},
   "outputs": [
    {
     "name": "stdout",
     "output_type": "stream",
     "text": [
      "1821/1821 [==============================] - 0s 119us/sample - loss: 0.6024 - acc: 0.7765\n",
      "1821/1821 [==============================] - 0s 120us/sample - loss: 0.5375 - acc: 0.7798\n",
      "1821/1821 [==============================] - 0s 115us/sample - loss: 0.5430 - acc: 0.7611\n"
     ]
    },
    {
     "data": {
      "text/plain": [
       "[0.5429550334688467, 0.76112026]"
      ]
     },
     "execution_count": 47,
     "metadata": {},
     "output_type": "execute_result"
    }
   ],
   "source": [
    "# exploring top models\n",
    "model5.evaluate(test_x, test_y)\n",
    "model7.evaluate(test_x, test_y)\n",
    "model8.evaluate(test_x, test_y)"
   ]
  },
  {
   "cell_type": "code",
   "execution_count": 48,
   "metadata": {},
   "outputs": [
    {
     "name": "stdout",
     "output_type": "stream",
     "text": [
      "{'epochs': 5, 'embed_dim': 25, 'num_filters': [2, 2, 2], 'kernel_sizes': [2, 4, 6], 'dense_layer_dims': [128, 64], 'dropout': 0.8}\n",
      "Epoch 1/5\n",
      "6920/6920 [==============================] - 4s 546us/sample - loss: 0.6855 - acc: 0.5501\n",
      "Epoch 2/5\n",
      "6920/6920 [==============================] - 3s 462us/sample - loss: 0.5529 - acc: 0.7241\n",
      "Epoch 3/5\n",
      "6920/6920 [==============================] - 3s 481us/sample - loss: 0.3894 - acc: 0.8331\n",
      "Epoch 4/5\n",
      "6920/6920 [==============================] - 3s 482us/sample - loss: 0.2937 - acc: 0.8822\n",
      "Epoch 5/5\n",
      "6920/6920 [==============================] - 3s 465us/sample - loss: 0.2172 - acc: 0.9147\n"
     ]
    }
   ],
   "source": [
    "model9 = run(epochs=5, embed_dim=25, dropout=0.8, dense_layer_dims=[128, 64], num_filters=[2,2,2], kernel_sizes=[2,4,6])"
   ]
  },
  {
   "cell_type": "code",
   "execution_count": 49,
   "metadata": {},
   "outputs": [
    {
     "name": "stdout",
     "output_type": "stream",
     "text": [
      "872/872 [==============================] - 0s 404us/sample - loss: 0.5985 - acc: 0.7511\n"
     ]
    },
    {
     "data": {
      "text/plain": [
       "[0.5985016472842715, 0.7511468]"
      ]
     },
     "execution_count": 49,
     "metadata": {},
     "output_type": "execute_result"
    }
   ],
   "source": [
    "model9.evaluate(dev_x, dev_y)"
   ]
  },
  {
   "cell_type": "code",
   "execution_count": null,
   "metadata": {},
   "outputs": [],
   "source": []
  }
 ],
 "metadata": {
  "kernelspec": {
   "display_name": "Python 3",
   "language": "python",
   "name": "python3"
  },
  "language_info": {
   "codemirror_mode": {
    "name": "ipython",
    "version": 3
   },
   "file_extension": ".py",
   "mimetype": "text/x-python",
   "name": "python",
   "nbconvert_exporter": "python",
   "pygments_lexer": "ipython3",
   "version": "3.7.0"
  }
 },
 "nbformat": 4,
 "nbformat_minor": 2
}
